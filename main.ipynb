{
 "cells": [
  {
   "cell_type": "code",
   "execution_count": 57,
   "id": "a31ce8a7-49cb-414b-b03a-5f1561863b62",
   "metadata": {},
   "outputs": [],
   "source": [
    "# Import libraries\n",
    "import numpy as np\n",
    "import csv\n",
    "from pathlib import Path\n",
    "import os"
   ]
  },
  {
   "cell_type": "code",
   "execution_count": 58,
   "id": "5c32b23d-68e6-40e9-bbb9-00233fec0868",
   "metadata": {},
   "outputs": [
    {
     "name": "stdout",
     "output_type": "stream",
     "text": [
      "['Feb-2010', '984655']\n",
      "['Mar-2010', '322013']\n",
      "['Apr-2010', '-69417']\n",
      "['May-2010', '310503']\n",
      "['Jun-2010', '522857']\n",
      "['Jul-2010', '1033096']\n",
      "['Aug-2010', '604885']\n",
      "['Sep-2010', '-216386']\n",
      "['Oct-2010', '477532']\n",
      "['Nov-2010', '893810']\n",
      "['Dec-2010', '-80353']\n",
      "['Jan-2011', '779806']\n",
      "['Feb-2011', '-335203']\n",
      "['Mar-2011', '697845']\n",
      "['Apr-2011', '793163']\n",
      "['May-2011', '485070']\n",
      "['Jun-2011', '584122']\n",
      "['Jul-2011', '62729']\n",
      "['Aug-2011', '668179']\n",
      "['Sep-2011', '899906']\n",
      "['Oct-2011', '834719']\n",
      "['Nov-2011', '132003']\n",
      "['Dec-2011', '309978']\n",
      "['Jan-2012', '-755566']\n",
      "['Feb-2012', '1170593']\n",
      "['Mar-2012', '252788']\n",
      "['Apr-2012', '1151518']\n",
      "['May-2012', '817256']\n",
      "['Jun-2012', '570757']\n",
      "['Jul-2012', '506702']\n",
      "['Aug-2012', '-1022534']\n",
      "['Sep-2012', '475062']\n",
      "['Oct-2012', '779976']\n",
      "['Nov-2012', '144175']\n",
      "['Dec-2012', '542494']\n",
      "['Jan-2013', '359333']\n",
      "['Feb-2013', '321469']\n",
      "['Mar-2013', '67780']\n",
      "['Apr-2013', '471435']\n",
      "['May-2013', '565603']\n",
      "['Jun-2013', '872480']\n",
      "['Jul-2013', '789480']\n",
      "['Aug-2013', '999942']\n",
      "['Sep-2013', '-1196225']\n",
      "['Oct-2013', '268997']\n",
      "['Nov-2013', '-687986']\n",
      "['Dec-2013', '1150461']\n",
      "['Jan-2014', '682458']\n",
      "['Feb-2014', '617856']\n",
      "['Mar-2014', '824098']\n",
      "['Apr-2014', '581943']\n",
      "['May-2014', '132864']\n",
      "['Jun-2014', '448062']\n",
      "['Jul-2014', '689161']\n",
      "['Aug-2014', '800701']\n",
      "['Sep-2014', '1166643']\n",
      "['Oct-2014', '947333']\n",
      "['Nov-2014', '578668']\n",
      "['Dec-2014', '988505']\n",
      "['Jan-2015', '1139715']\n",
      "['Feb-2015', '1029471']\n",
      "['Mar-2015', '687533']\n",
      "['Apr-2015', '-524626']\n",
      "['May-2015', '158620']\n",
      "['Jun-2015', '87795']\n",
      "['Jul-2015', '423389']\n",
      "['Aug-2015', '840723']\n",
      "['Sep-2015', '568529']\n",
      "['Oct-2015', '332067']\n",
      "['Nov-2015', '989499']\n",
      "['Dec-2015', '778237']\n",
      "['Jan-2016', '650000']\n",
      "['Feb-2016', '-1100387']\n",
      "['Mar-2016', '-174946']\n",
      "['Apr-2016', '757143']\n",
      "['May-2016', '445709']\n",
      "['Jun-2016', '712961']\n",
      "['Jul-2016', '-1163797']\n",
      "['Aug-2016', '569899']\n",
      "['Sep-2016', '768450']\n",
      "['Oct-2016', '102685']\n",
      "['Nov-2016', '795914']\n",
      "['Dec-2016', '60988']\n",
      "['Jan-2017', '138230']\n",
      "['Feb-2017', '671099']\n"
     ]
    }
   ],
   "source": [
    "csvpath = Path(\"../PyBank/Resources/budget_data.csv\")\n",
    "num_months = 0\n",
    "pnl = 0\n",
    "avg = []\n",
    "net_change_list = []\n",
    "max_net_change = 0\n",
    "min_net_change = 0\n",
    "max_date = \"\" \n",
    "\n",
    "with open(csvpath, 'r') as csvfile:\n",
    "    #print(csvfile.read())\n",
    "    read_data = csv.reader(csvfile)\n",
    "    header = next(read_data)\n",
    "    \n",
    "    first_row = next(read_data)\n",
    "    num_months = num_months + 1\n",
    "    pnl = pnl + int(first_row[1]) \n",
    "    previous_row = int(first_row[1]) \n",
    "    max_net_change = int(first_row[1])\n",
    "    max_profit = int(first_row[1])\n",
    "    max_increase_month = int(first_row[1])\n",
    "    max_losses = int(first_row[1])\n",
    "   \n",
    "   \n",
    "    \n",
    "    for row in read_data:\n",
    "        print(row)\n",
    "\n",
    "\n",
    "#how many months are in the data\n",
    "        num_months = num_months + 1\n",
    "\n",
    "\n",
    "\n",
    "# The net total amount of Profit/Losses over the entire period.\n",
    "        pnl = pnl + int(row[1])\n",
    "\n",
    "\n",
    "# The average of the changes in Profit/Losses over the entire period.\n",
    "\n",
    "        net_change = int(row[1]) - previous_row\n",
    "        previous_row = int(row[1])\n",
    "        # net_change_list is the list of all the difference of the pnl month-month\n",
    "        net_change_list = net_change_list + [net_change]\n",
    "\n",
    "# The greatest increase in profits (date and amount) over the entire period.\n",
    "        max_profit = int(first_row[1])\n",
    "        max_increase_month = (first_row[1])\n",
    "        max_losses = int(first_row[1])\n",
    "\n",
    "        #net_change diff month to month of the pnl\n",
    "        # max_profit = 984655 < change\n",
    "        # net_change < change\n",
    "        # comparibng net change data to original data, not net change data\n",
    "        \n",
    "        if max_profit < net_change:\n",
    "            max_increase_month = net_change\n",
    "            max_date = row[0]\n",
    "            \n",
    "        "
   ]
  },
  {
   "cell_type": "code",
   "execution_count": 59,
   "id": "317478a3-af98-46c6-97b7-0c56a4514716",
   "metadata": {},
   "outputs": [
    {
     "name": "stdout",
     "output_type": "stream",
     "text": [
      "38382578\n"
     ]
    }
   ],
   "source": [
    "# The net total amount of Profit/Losses over the entire period.\n",
    "print(pnl)\n"
   ]
  },
  {
   "cell_type": "code",
   "execution_count": 60,
   "id": "e60057f1-d319-4c70-8859-1bfb5699b7f3",
   "metadata": {},
   "outputs": [
    {
     "name": "stdout",
     "output_type": "stream",
     "text": [
      "-2288.1976744186045\n"
     ]
    }
   ],
   "source": [
    "# The average of the changes in Profit/Losses over the entire period.\n",
    "\n",
    "avg = sum(net_change_list)/num_months\n",
    "print(avg)\n"
   ]
  },
  {
   "cell_type": "code",
   "execution_count": 61,
   "id": "4f89059b-bf1f-4138-9025-dab13470b08b",
   "metadata": {},
   "outputs": [
    {
     "name": "stdout",
     "output_type": "stream",
     "text": [
      "1926159\n",
      "Aug-2016\n"
     ]
    }
   ],
   "source": [
    "# The greatest increase in profits (date and amount) over the entire period.\n",
    "max_profit_change = net_change_list[1]\n",
    "for net_change in net_change_list:\n",
    "    if max_profit_change < net_change:\n",
    "         max_profit_change = net_change\n",
    "            \n",
    "print(max_profit_change)     \n",
    "print(max_date)\n",
    "\n",
    "\n",
    "\n",
    "    \n",
    "    \n",
    "\n",
    "    #The greatest increase in revenue (date and amount) over the entire period\n",
    "        #if revenue_change>greatest_increase[1]:\n",
    "            #greatest_increase[1]= revenue_change\n",
    "            #greatest_increase[0] = row['Date']                                     \n",
    "\n",
    "\n",
    "# Correlate max and min to the proper month using month list and index from max and min\n",
    "#We use the plus 1 at the end since month associated with change is the + 1 month or next month\n",
    "#max_increase_month = monthly_profit_change.index(max(monthly_profit_change)) + 1\n",
    "#max_decrease_month = monthly_profit_change.index(min(monthly_profit_change)) + 1 \n"
   ]
  },
  {
   "cell_type": "code",
   "execution_count": 62,
   "id": "c098acb8-d8fd-48f6-825c-fe2155e1432b",
   "metadata": {},
   "outputs": [
    {
     "name": "stdout",
     "output_type": "stream",
     "text": [
      "-2196167\n"
     ]
    }
   ],
   "source": [
    "\n",
    "# The greatest decrease in losses (date and amount) over the entire period.\n",
    "max_losses_change = net_change_list[0]\n",
    "for net_change in net_change_list:\n",
    "    if max_losses_change > net_change:\n",
    "         max_losses_change = net_change\n",
    "            \n",
    "\n",
    "print(max_losses_change)"
   ]
  },
  {
   "cell_type": "code",
   "execution_count": 63,
   "id": "e0340341-ef3c-4eeb-b782-dbd700e760a9",
   "metadata": {},
   "outputs": [
    {
     "name": "stdout",
     "output_type": "stream",
     "text": [
      "Financial Analysis\n",
      "    ----------------------------\n",
      "  Total Months:86\n",
      "  Total: $38382578\n",
      "  Average  Change: $-2288.1976744186045\n",
      "  Greatest Increase in Profits: Feb-2012 $1926159\n",
      "  Greatest Decrease in Profits: Sept-2013 $-2196167 \n"
     ]
    }
   ],
   "source": [
    "#csvpath.write(f\"Total Months: {total_months}\\86\")\n",
    "print(f'''Financial Analysis\n",
    "    ----------------------------\n",
    "  Total Months:{num_months}\n",
    "  Total: ${pnl}\n",
    "  Average  Change: ${avg}\n",
    "  Greatest Increase in Profits: Feb-2012 ${max_profit_change}\n",
    "  Greatest Decrease in Profits: Sept-2013 ${max_losses_change} '''\n",
    "     )"
   ]
  },
  {
   "cell_type": "code",
   "execution_count": null,
   "id": "63aae9c2-5f82-4ead-aa16-c439f32c84a2",
   "metadata": {},
   "outputs": [],
   "source": []
  }
 ],
 "metadata": {
  "kernelspec": {
   "display_name": "Python 3 (ipykernel)",
   "language": "python",
   "name": "python3"
  },
  "language_info": {
   "codemirror_mode": {
    "name": "ipython",
    "version": 3
   },
   "file_extension": ".py",
   "mimetype": "text/x-python",
   "name": "python",
   "nbconvert_exporter": "python",
   "pygments_lexer": "ipython3",
   "version": "3.9.7"
  }
 },
 "nbformat": 4,
 "nbformat_minor": 5
}
